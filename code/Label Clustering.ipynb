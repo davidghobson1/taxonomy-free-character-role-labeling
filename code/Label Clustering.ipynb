{
 "cells": [
  {
   "cell_type": "markdown",
   "id": "9138c859-c0b1-4462-9f63-dd6cc60e7086",
   "metadata": {},
   "source": [
    "## Label Clustering\n",
    "\n",
    "Perform label simplification (singularization/lemmatization) and label clustering"
   ]
  },
  {
   "cell_type": "code",
   "execution_count": 2,
   "id": "e4a6f90a-8457-4b93-ba2b-c5c5e2d9e52a",
   "metadata": {},
   "outputs": [
    {
     "name": "stderr",
     "output_type": "stream",
     "text": [
      "[nltk_data] Downloading package punkt_tab to /Users/david/nltk_data...\n",
      "[nltk_data]   Package punkt_tab is already up-to-date!\n",
      "[nltk_data] Downloading package wordnet to /Users/david/nltk_data...\n",
      "[nltk_data]   Package wordnet is already up-to-date!\n",
      "[nltk_data] Downloading package omw-1.4 to /Users/david/nltk_data...\n",
      "[nltk_data]   Package omw-1.4 is already up-to-date!\n",
      "[nltk_data] Downloading package averaged_perceptron_tagger_eng to\n",
      "[nltk_data]     /Users/david/nltk_data...\n",
      "[nltk_data]   Package averaged_perceptron_tagger_eng is already up-to-\n",
      "[nltk_data]       date!\n"
     ]
    }
   ],
   "source": [
    "import numpy as np\n",
    "import pandas as pd\n",
    "\n",
    "from sentence_transformers import SentenceTransformer\n",
    "\n",
    "from sklearn.metrics import silhouette_score\n",
    "from sklearn.cluster import AgglomerativeClustering\n",
    "from sklearn.feature_extraction.text import CountVectorizer\n",
    "\n",
    "from scipy.spatial.distance import pdist\n",
    "from scipy.cluster.hierarchy import linkage, fcluster\n",
    "\n",
    "from bertopic import BERTopic\n",
    "from umap import UMAP\n",
    "\n",
    "import os\n",
    "from tqdm import tqdm\n",
    "import matplotlib.pyplot as plt\n",
    "\n",
    "import nltk\n",
    "from nltk.stem import WordNetLemmatizer\n",
    "nltk.download('punkt_tab')      \n",
    "nltk.download('wordnet')    \n",
    "nltk.download('omw-1.4') \n",
    "nltk.download('averaged_perceptron_tagger_eng')\n",
    "\n",
    "lemmatizer = WordNetLemmatizer()"
   ]
  },
  {
   "cell_type": "markdown",
   "id": "48ad78ef-8f5d-4ed7-a8e5-3a7ff98ad621",
   "metadata": {},
   "source": [
    "Load data"
   ]
  },
  {
   "cell_type": "code",
   "execution_count": 9,
   "id": "2bfa32c3",
   "metadata": {},
   "outputs": [],
   "source": [
    "filepath = \"/Users/david/Desktop/Research/Project/Data/Application/clean_datasets\"\n",
    "\n",
    "cates = [\n",
    "    'ukraine', \n",
    "    'immigration',\n",
    "    'tech_and_jobs',\n",
    "    'samesex', \n",
    "    'climate'\n",
    "]\n",
    "\n",
    "dfs = {cate: pd.read_csv(os.path.join(filepath, \"character_labels_data\", f\"{cate}.csv\")) for cate in cates}\n",
    "\n",
    "# merge all datasets together (with the selected columns only)\n",
    "sel_cols = [\n",
    "    'orig_index',\n",
    "    'character',\n",
    "    'base_label',\n",
    "    'modifier',\n",
    "    'full_label',\n",
    "    'hero_type',\n",
    "    'cate'\n",
    "]\n",
    "\n",
    "for cate, df in dfs.items():\n",
    "    df['cate'] = cate\n",
    "    dfs[cate] = df\n",
    "\n",
    "df = pd.concat([df[sel_cols] for _, df in dfs.items()])"
   ]
  },
  {
   "cell_type": "markdown",
   "id": "78dec536",
   "metadata": {},
   "source": [
    "#### 1) Simplify labels"
   ]
  },
  {
   "cell_type": "markdown",
   "id": "9af3370b",
   "metadata": {},
   "source": [
    "Correct base label mistakes (labels with more than 2 words)"
   ]
  },
  {
   "cell_type": "code",
   "execution_count": 3,
   "id": "81cf80dd",
   "metadata": {},
   "outputs": [],
   "source": [
    "base_labels_to_split = [\n",
    "    'ally', \n",
    "    'authority', \n",
    "    'leader', \n",
    "    'partner', \n",
    "    'adversary', \n",
    "    'giant', \n",
    "    'nation', \n",
    "    'driver', \n",
    "    'tool', \n",
    "    'advocate', \n",
    "    'institution',\n",
    "    'strategist',\n",
    "    'collaborator',\n",
    "    'researcher'\n",
    "]\n",
    "\n",
    "# Identify mistakes\n",
    "mistake_labels = df['base_label'].apply(\n",
    "    lambda x: (len(x.split()) > 1) and (x.split()[1] in base_labels_to_split)\n",
    ")\n",
    "\n",
    "# Make corrections\n",
    "df['corr_base_label'] = df['base_label']\n",
    "df['corr_modifier'] = df['modifier']\n",
    "df.loc[mistake_labels, 'corr_base_label'] = df.loc[mistake_labels, 'base_label'].apply(lambda x: x.split()[1])\n",
    "df.loc[mistake_labels, 'corr_modifier'] = df.loc[mistake_labels, 'modifier'] + \" \" + df.loc[mistake_labels, 'base_label'].apply(lambda x: x.split()[0])"
   ]
  },
  {
   "cell_type": "markdown",
   "id": "b886e59a",
   "metadata": {},
   "source": [
    "Singularize base labels and lemmatize modifiers"
   ]
  },
  {
   "cell_type": "code",
   "execution_count": 4,
   "id": "a0b5736f",
   "metadata": {},
   "outputs": [],
   "source": [
    "# Singularize nouns\n",
    "df['corr_base_label'] = df['corr_base_label'].apply(lambda x: lemmatizer.lemmatize(x, pos='n'))\n",
    "\n",
    "# Lemmatize modifiers\n",
    "df['corr_modifier'] = df['corr_modifier'].apply(lambda x: \" \".join([lemmatizer.lemmatize(j, pos='a') for j in x.split()]))\n",
    "\n",
    "# Form full labels\n",
    "df['corr_full_label'] = df['corr_modifier'] + \" \" + df['corr_base_label']\n"
   ]
  },
  {
   "cell_type": "markdown",
   "id": "3299d954",
   "metadata": {},
   "source": [
    "#### 2) Cluster"
   ]
  },
  {
   "cell_type": "code",
   "execution_count": 5,
   "id": "604e1214",
   "metadata": {},
   "outputs": [],
   "source": [
    "# determine the optimal clustering threshold for agglomerative clustering using Silhouette score\n",
    "def get_optimal_clustering_threshold(orig_docs: pd.Series, emb_model: SentenceTransformer, show_plot: bool = False):\n",
    "    docs = orig_docs.unique()\n",
    "\n",
    "    # get embeddings\n",
    "    embs = emb_model.encode(docs, convert_to_tensor=True).to('cpu')\n",
    "\n",
    "    # compute pairwise distances and perform clustering\n",
    "    pairwise_dists = pdist(embs, metric='cosine')\n",
    "    Z = linkage(pairwise_dists, method='complete')\n",
    "\n",
    "    # scan through the distance thresholds and compute the Silhouette scores\n",
    "    t_vals = np.arange(start=0.2, stop=1, step=0.01).round(2)\n",
    "    silhouette_scores = []\n",
    "    print(\"Scanning thresholds...\")\n",
    "    for t in tqdm(t_vals):\n",
    "        clusters = fcluster(Z, t=t, criterion='distance')\n",
    "        silhouette_scores.append(silhouette_score(embs, clusters, metric='cosine'))\n",
    "\n",
    "    optimal_threshold = t_vals[np.array(silhouette_scores).argmax()]\n",
    "    print(f\"Optimal threshold: {optimal_threshold}\")\n",
    "\n",
    "    # plot Silhouette scores\n",
    "    if show_plot:\n",
    "        ax = plt.subplot()\n",
    "        plt.scatter(t_vals, silhouette_scores, label='Silhouette')\n",
    "        plt.ylabel(\"Score\")\n",
    "        plt.xlabel(\"Distance Threshold\")\n",
    "        plt.legend(prop={'size': 12}) #, bbox_to_anchor=(1.05, 1), loc='upper left')\n",
    "        for item in ([ax.title, ax.xaxis.label, ax.yaxis.label] +\n",
    "                    ax.get_xticklabels() + ax.get_yticklabels()):\n",
    "            item.set_fontsize(15)\n",
    "        plt.show()\n",
    "\n",
    "    return optimal_threshold\n",
    "\n",
    "# get the entry -> cluster name mapping when clustering using agglomerative clustering with the specified threshold\n",
    "def get_cluster_name_mapping(orig_docs, dist_thres):\n",
    "    # remove duplicates\n",
    "    docs = orig_docs.unique()\n",
    "\n",
    "    # get topics\n",
    "    topic_model, topics = get_topic_model(docs, model_name, dist_thres)\n",
    "    topic_df = pd.DataFrame(data={'entry': docs, 'topic': topics}).sort_values('topic')\n",
    "\n",
    "    # normalize cluster names (map entry to the most frequent entry in each cluster)\n",
    "    full_topic_df = orig_docs.rename('entry').to_frame().merge(topic_df)          # topic df with duplicates\n",
    "    standard_label_names = (full_topic_df.groupby('topic')['entry']\n",
    "        .apply(lambda x: x.value_counts().index[0])\n",
    "        .rename(\"standard_entry\")\n",
    "        .to_frame()\n",
    "    )\n",
    "    full_topic_df = full_topic_df.merge(standard_label_names, on='topic')\n",
    "\n",
    "    # get entry to cluster name mapping\n",
    "    cluster_name_mapping = full_topic_df[['entry', 'standard_entry']].set_index('entry')['standard_entry'].to_dict()\n",
    "\n",
    "    return cluster_name_mapping\n",
    "\n",
    "class NoUMAP(UMAP):\n",
    "    def fit(self, X):\n",
    "        return X\n",
    "    def transform(self, X):\n",
    "        return X\n",
    "\n",
    "# Compute a topic model using agglomeratice clustering with no UMAP\n",
    "def get_topic_model(docs, model_name, dist_thres):\n",
    "    topic_model = BERTopic(\n",
    "        embedding_model = model_name,\n",
    "        umap_model = NoUMAP(),\n",
    "        hdbscan_model = AgglomerativeClustering(n_clusters=None, linkage='complete', distance_threshold=dist_thres, metric='cosine'),\n",
    "        vectorizer_model = CountVectorizer(stop_words=\"english\", ngram_range=(1,1)),\n",
    "    )\n",
    "    topics, _ = topic_model.fit_transform(docs)\n",
    "    return topic_model, topics"
   ]
  },
  {
   "cell_type": "code",
   "execution_count": 6,
   "id": "75f06fcf",
   "metadata": {},
   "outputs": [],
   "source": [
    "# Embedding model\n",
    "models = [\n",
    "    \"stsb-mpnet-base-v2\",\n",
    "    \"nli-mpnet-base-v2\",\n",
    "    \"average_word_embeddings_glove.6B.300d\",\n",
    "    \"stsb-roberta-base-v2\"\n",
    "]\n",
    "model_name = models[3]\n",
    "emb_model = SentenceTransformer(model_name)"
   ]
  },
  {
   "cell_type": "markdown",
   "id": "79f75c83",
   "metadata": {},
   "source": [
    "Determine the optimal thresholds"
   ]
  },
  {
   "cell_type": "code",
   "execution_count": 7,
   "id": "f15f3868",
   "metadata": {},
   "outputs": [
    {
     "name": "stdout",
     "output_type": "stream",
     "text": [
      "corr_base_label\n",
      "Scanning thresholds...\n"
     ]
    },
    {
     "name": "stderr",
     "output_type": "stream",
     "text": [
      "100%|██████████| 80/80 [00:09<00:00,  8.35it/s]\n"
     ]
    },
    {
     "name": "stdout",
     "output_type": "stream",
     "text": [
      "Optimal threshold: 0.54\n"
     ]
    },
    {
     "data": {
      "image/png": "[encoded data removed]",
      "text/plain": [
       "<Figure size 640x480 with 1 Axes>"
      ]
     },
     "metadata": {},
     "output_type": "display_data"
    },
    {
     "name": "stdout",
     "output_type": "stream",
     "text": [
      "corr_modifier\n",
      "Scanning thresholds...\n"
     ]
    },
    {
     "name": "stderr",
     "output_type": "stream",
     "text": [
      "100%|██████████| 80/80 [01:18<00:00,  1.02it/s]"
     ]
    },
    {
     "name": "stdout",
     "output_type": "stream",
     "text": [
      "Optimal threshold: 0.52\n"
     ]
    },
    {
     "name": "stderr",
     "output_type": "stream",
     "text": [
      "\n"
     ]
    },
    {
     "data": {
      "image/png": "[encoded data removed]",
      "text/plain": [
       "<Figure size 640x480 with 1 Axes>"
      ]
     },
     "metadata": {},
     "output_type": "display_data"
    }
   ],
   "source": [
    "optimal_dist_thresholds = dict()\n",
    "for label_type in ['corr_base_label', 'corr_modifier']:\n",
    "    print(label_type)\n",
    "    optimal_dist_thresholds[label_type] = get_optimal_clustering_threshold(df[label_type], emb_model, show_plot=True)"
   ]
  },
  {
   "cell_type": "markdown",
   "id": "262b2cd7",
   "metadata": {},
   "source": [
    "Compute clusters"
   ]
  },
  {
   "cell_type": "code",
   "execution_count": 8,
   "id": "0bada5f7",
   "metadata": {},
   "outputs": [],
   "source": [
    "base_label_mapping = get_cluster_name_mapping(df['corr_base_label'], optimal_dist_thresholds['corr_base_label'])\n",
    "modifier_mapping = get_cluster_name_mapping(df['corr_modifier'], optimal_dist_thresholds['corr_modifier'])"
   ]
  },
  {
   "cell_type": "code",
   "execution_count": 9,
   "id": "ac602c30",
   "metadata": {},
   "outputs": [],
   "source": [
    "df['clustered_base_label'] = df['corr_base_label'].apply(lambda x: base_label_mapping[x])\n",
    "df['clustered_modifier'] = df['corr_modifier'].apply(lambda x: modifier_mapping[x])\n",
    "df['clustered_full_label'] = df['clustered_modifier'] + \" \" + df['clustered_base_label']"
   ]
  },
  {
   "cell_type": "code",
   "execution_count": 24,
   "id": "9099c317",
   "metadata": {},
   "outputs": [],
   "source": [
    "# save\n",
    "df.to_csv(os.path.join(filepath, \"clustered_labels.csv\"), index=False)"
   ]
  },
  {
   "cell_type": "markdown",
   "id": "f74dcda9",
   "metadata": {},
   "source": [
    "### Labelling Stats"
   ]
  },
  {
   "cell_type": "code",
   "execution_count": null,
   "id": "e87c2432",
   "metadata": {},
   "outputs": [
    {
     "data": {
      "text/html": [
       "<div>\n",
       "<style scoped>\n",
       "    .dataframe tbody tr th:only-of-type {\n",
       "        vertical-align: middle;\n",
       "    }\n",
       "\n",
       "    .dataframe tbody tr th {\n",
       "        vertical-align: top;\n",
       "    }\n",
       "\n",
       "    .dataframe thead th {\n",
       "        text-align: right;\n",
       "    }\n",
       "</style>\n",
       "<table border=\"1\" class=\"dataframe\">\n",
       "  <thead>\n",
       "    <tr style=\"text-align: right;\">\n",
       "      <th></th>\n",
       "      <th>Original PRIM</th>\n",
       "      <th>PRIM</th>\n",
       "      <th>Original MOD</th>\n",
       "      <th>MOD</th>\n",
       "      <th>Original Full</th>\n",
       "      <th>Full</th>\n",
       "    </tr>\n",
       "    <tr>\n",
       "      <th>cate</th>\n",
       "      <th></th>\n",
       "      <th></th>\n",
       "      <th></th>\n",
       "      <th></th>\n",
       "      <th></th>\n",
       "      <th></th>\n",
       "    </tr>\n",
       "  </thead>\n",
       "  <tbody>\n",
       "    <tr>\n",
       "      <th>climate</th>\n",
       "      <td>1440</td>\n",
       "      <td>728</td>\n",
       "      <td>3124</td>\n",
       "      <td>1576</td>\n",
       "      <td>9120</td>\n",
       "      <td>7715</td>\n",
       "    </tr>\n",
       "    <tr>\n",
       "      <th>immigration</th>\n",
       "      <td>1779</td>\n",
       "      <td>843</td>\n",
       "      <td>3754</td>\n",
       "      <td>1870</td>\n",
       "      <td>10525</td>\n",
       "      <td>9044</td>\n",
       "    </tr>\n",
       "    <tr>\n",
       "      <th>samesex</th>\n",
       "      <td>1265</td>\n",
       "      <td>670</td>\n",
       "      <td>2590</td>\n",
       "      <td>1400</td>\n",
       "      <td>8126</td>\n",
       "      <td>6775</td>\n",
       "    </tr>\n",
       "    <tr>\n",
       "      <th>tech_and_jobs</th>\n",
       "      <td>1089</td>\n",
       "      <td>649</td>\n",
       "      <td>3223</td>\n",
       "      <td>1730</td>\n",
       "      <td>6382</td>\n",
       "      <td>5803</td>\n",
       "    </tr>\n",
       "    <tr>\n",
       "      <th>ukraine</th>\n",
       "      <td>479</td>\n",
       "      <td>330</td>\n",
       "      <td>815</td>\n",
       "      <td>631</td>\n",
       "      <td>1866</td>\n",
       "      <td>1777</td>\n",
       "    </tr>\n",
       "  </tbody>\n",
       "</table>\n",
       "</div>"
      ],
      "text/plain": [
       "               Original PRIM  PRIM  Original MOD   MOD  Original Full  Full\n",
       "cate                                                                       \n",
       "climate                 1440   728          3124  1576           9120  7715\n",
       "immigration             1779   843          3754  1870          10525  9044\n",
       "samesex                 1265   670          2590  1400           8126  6775\n",
       "tech_and_jobs           1089   649          3223  1730           6382  5803\n",
       "ukraine                  479   330           815   631           1866  1777"
      ]
     },
     "execution_count": 19,
     "metadata": {},
     "output_type": "execute_result"
    }
   ],
   "source": [
    "label_types = ['base_label', 'modifier', 'full_label']\n",
    "dfs = []\n",
    "for col in label_types:\n",
    "    df_tmp = df.groupby('cate')[[col, f'clustered_{col}']].nunique()\n",
    "    dfs.append(df_tmp)\n",
    "df_label_stats = pd.concat(dfs, axis=1).rename(columns={\n",
    "    'base_label': \"Original PRIM\",\n",
    "    'modifier': 'Original MOD',\n",
    "    'full_label': \"Original Full\",\n",
    "    \"clustered_base_label\": \"PRIM\",\n",
    "    \"clustered_modifier\": \"MOD\",\n",
    "    \"clustered_full_label\": \"Full\"\n",
    "})\n",
    "df_label_stats"
   ]
  },
  {
   "cell_type": "code",
   "execution_count": 22,
   "id": "6a4307a6",
   "metadata": {},
   "outputs": [
    {
     "data": {
      "text/html": [
       "<div>\n",
       "<style scoped>\n",
       "    .dataframe tbody tr th:only-of-type {\n",
       "        vertical-align: middle;\n",
       "    }\n",
       "\n",
       "    .dataframe tbody tr th {\n",
       "        vertical-align: top;\n",
       "    }\n",
       "\n",
       "    .dataframe thead th {\n",
       "        text-align: right;\n",
       "    }\n",
       "</style>\n",
       "<table border=\"1\" class=\"dataframe\">\n",
       "  <thead>\n",
       "    <tr style=\"text-align: right;\">\n",
       "      <th></th>\n",
       "      <th>Original PRIM</th>\n",
       "      <th>PRIM</th>\n",
       "      <th>Original MOD</th>\n",
       "      <th>MOD</th>\n",
       "      <th>Original Full</th>\n",
       "      <th>Full</th>\n",
       "    </tr>\n",
       "  </thead>\n",
       "  <tbody>\n",
       "    <tr>\n",
       "      <th>0</th>\n",
       "      <td>6052</td>\n",
       "      <td>3220</td>\n",
       "      <td>13506</td>\n",
       "      <td>7207</td>\n",
       "      <td>36019</td>\n",
       "      <td>31114</td>\n",
       "    </tr>\n",
       "  </tbody>\n",
       "</table>\n",
       "</div>"
      ],
      "text/plain": [
       "   Original PRIM  PRIM  Original MOD   MOD  Original Full   Full\n",
       "0           6052  3220         13506  7207          36019  31114"
      ]
     },
     "execution_count": 22,
     "metadata": {},
     "output_type": "execute_result"
    }
   ],
   "source": [
    "df_label_stats.sum().to_frame().T"
   ]
  }
 ],
 "metadata": {
  "kernelspec": {
   "display_name": "thesis",
   "language": "python",
   "name": "python3"
  },
  "language_info": {
   "codemirror_mode": {
    "name": "ipython",
    "version": 3
   },
   "file_extension": ".py",
   "mimetype": "text/x-python",
   "name": "python",
   "nbconvert_exporter": "python",
   "pygments_lexer": "ipython3",
   "version": "3.10.13"
  }
 },
 "nbformat": 4,
 "nbformat_minor": 5
}
