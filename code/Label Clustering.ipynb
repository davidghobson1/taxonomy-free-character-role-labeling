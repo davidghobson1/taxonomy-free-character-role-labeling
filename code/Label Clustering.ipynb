{
 "cells": [
  {
   "cell_type": "markdown",
   "id": "9138c859-c0b1-4462-9f63-dd6cc60e7086",
   "metadata": {},
   "source": [
    "## Label Clustering\n",
    "\n",
    "Perform label simplification (singularization/lemmatization) and label clustering"
   ]
  },
  {
   "cell_type": "code",
   "execution_count": 1,
   "id": "e4a6f90a-8457-4b93-ba2b-c5c5e2d9e52a",
   "metadata": {},
   "outputs": [
    {
     "name": "stderr",
     "output_type": "stream",
     "text": [
      "[nltk_data] Downloading package punkt_tab to /Users/david/nltk_data...\n",
      "[nltk_data]   Package punkt_tab is already up-to-date!\n",
      "[nltk_data] Downloading package wordnet to /Users/david/nltk_data...\n",
      "[nltk_data]   Package wordnet is already up-to-date!\n",
      "[nltk_data] Downloading package omw-1.4 to /Users/david/nltk_data...\n",
      "[nltk_data]   Package omw-1.4 is already up-to-date!\n",
      "[nltk_data] Downloading package averaged_perceptron_tagger_eng to\n",
      "[nltk_data]     /Users/david/nltk_data...\n",
      "[nltk_data]   Package averaged_perceptron_tagger_eng is already up-to-\n",
      "[nltk_data]       date!\n"
     ]
    }
   ],
   "source": [
    "import numpy as np\n",
    "import pandas as pd\n",
    "\n",
    "from sentence_transformers import SentenceTransformer\n",
    "\n",
    "from sklearn.metrics import silhouette_score\n",
    "from sklearn.cluster import AgglomerativeClustering\n",
    "from sklearn.feature_extraction.text import CountVectorizer\n",
    "\n",
    "from scipy.spatial.distance import pdist\n",
    "from scipy.cluster.hierarchy import linkage, fcluster\n",
    "\n",
    "from bertopic import BERTopic\n",
    "from umap import UMAP\n",
    "\n",
    "import os\n",
    "from tqdm import tqdm\n",
    "import matplotlib.pyplot as plt\n",
    "\n",
    "import nltk\n",
    "from nltk.stem import WordNetLemmatizer\n",
    "nltk.download('punkt_tab')      \n",
    "nltk.download('wordnet')    \n",
    "nltk.download('omw-1.4') \n",
    "nltk.download('averaged_perceptron_tagger_eng')\n",
    "\n",
    "lemmatizer = WordNetLemmatizer()"
   ]
  },
  {
   "cell_type": "markdown",
   "id": "48ad78ef-8f5d-4ed7-a8e5-3a7ff98ad621",
   "metadata": {},
   "source": [
    "Load data"
   ]
  },
  {
   "cell_type": "code",
   "execution_count": 2,
   "id": "2bfa32c3",
   "metadata": {},
   "outputs": [],
   "source": [
    "filepath = \"/Users/david/Desktop/Research/Project/Data/Application/clean_datasets\"\n",
    "\n",
    "cates = [\n",
    "    'ukraine', \n",
    "    'immigration',\n",
    "    'tech_and_jobs',\n",
    "    'samesex', \n",
    "    'climate'\n",
    "]\n",
    "\n",
    "dfs = {cate: pd.read_csv(os.path.join(filepath, \"character_labels_data\", f\"{cate}.csv\")) for cate in cates}\n",
    "\n",
    "# merge all datasets together (with the selected columns only)\n",
    "sel_cols = [\n",
    "    'orig_index',\n",
    "    'character',\n",
    "    'base_label',\n",
    "    'modifier',\n",
    "    'full_label',\n",
    "    'hero_type',\n",
    "    'cate'\n",
    "]\n",
    "\n",
    "for cate, df in dfs.items():\n",
    "    df['cate'] = cate\n",
    "    dfs[cate] = df\n",
    "\n",
    "df = pd.concat([df[sel_cols] for _, df in dfs.items()])"
   ]
  },
  {
   "cell_type": "markdown",
   "id": "78dec536",
   "metadata": {},
   "source": [
    "#### 1) Simplify labels"
   ]
  },
  {
   "cell_type": "markdown",
   "id": "9af3370b",
   "metadata": {},
   "source": [
    "Correct base label mistakes (labels with more than 2 words)"
   ]
  },
  {
   "cell_type": "code",
   "execution_count": 3,
   "id": "81cf80dd",
   "metadata": {},
   "outputs": [],
   "source": [
    "base_labels_to_split = [\n",
    "    'ally', \n",
    "    'authority', \n",
    "    'leader', \n",
    "    'partner', \n",
    "    'adversary', \n",
    "    'giant', \n",
    "    'nation', \n",
    "    'driver', \n",
    "    'tool', \n",
    "    'advocate', \n",
    "    'institution',\n",
    "    'strategist',\n",
    "    'collaborator',\n",
    "    'researcher'\n",
    "]\n",
    "\n",
    "# Identify mistakes\n",
    "mistake_labels = df['base_label'].apply(\n",
    "    lambda x: (len(x.split()) > 1) and (x.split()[-1] in base_labels_to_split)\n",
    ")\n",
    "\n",
    "# Make corrections\n",
    "df['corr_base_label'] = df['base_label']\n",
    "df['corr_modifier'] = df['modifier']\n",
    "df.loc[mistake_labels, 'corr_base_label'] = df.loc[mistake_labels, 'base_label'].apply(lambda x: x.split()[1])\n",
    "df.loc[mistake_labels, 'corr_modifier'] = df.loc[mistake_labels, 'modifier'] + \" \" + df.loc[mistake_labels, 'base_label'].apply(lambda x: x.split()[0])"
   ]
  },
  {
   "cell_type": "markdown",
   "id": "b886e59a",
   "metadata": {},
   "source": [
    "Singularize base labels and lemmatize modifiers"
   ]
  },
  {
   "cell_type": "code",
   "execution_count": 4,
   "id": "a0b5736f",
   "metadata": {},
   "outputs": [],
   "source": [
    "# Singularize nouns\n",
    "df['corr_base_label'] = df['corr_base_label'].apply(lambda x: lemmatizer.lemmatize(x, pos='n'))\n",
    "\n",
    "# Lemmatize modifiers\n",
    "df['corr_modifier'] = df['corr_modifier'].apply(lambda x: \" \".join([lemmatizer.lemmatize(j, pos='a') for j in x.split()]))\n",
    "\n",
    "# Form full labels\n",
    "df['corr_full_label'] = df['corr_modifier'] + \" \" + df['corr_base_label']\n"
   ]
  },
  {
   "cell_type": "markdown",
   "id": "3299d954",
   "metadata": {},
   "source": [
    "#### 2) Cluster"
   ]
  },
  {
   "cell_type": "code",
   "execution_count": 24,
   "id": "604e1214",
   "metadata": {},
   "outputs": [],
   "source": [
    "# determine the optimal clustering threshold for agglomerative clustering using Silhouette score\n",
    "def get_optimal_clustering_threshold(orig_docs: pd.Series, emb_model: SentenceTransformer, show_plot: bool = False):\n",
    "    docs = orig_docs.unique()\n",
    "\n",
    "    # get embeddings\n",
    "    embs = emb_model.encode(docs, convert_to_tensor=True).to('cpu')\n",
    "\n",
    "    # compute pairwise distances and perform clustering\n",
    "    pairwise_dists = pdist(embs, metric='cosine')\n",
    "    Z = linkage(pairwise_dists, method='complete')\n",
    "\n",
    "    # scan through the distance thresholds and compute the Silhouette scores\n",
    "    t_vals = np.arange(start=0.2, stop=1, step=0.01).round(2)\n",
    "    silhouette_scores = []\n",
    "    print(\"Scanning thresholds...\")\n",
    "    for t in tqdm(t_vals):\n",
    "        clusters = fcluster(Z, t=t, criterion='distance')\n",
    "        silhouette_scores.append(silhouette_score(embs, clusters, metric='cosine'))\n",
    "\n",
    "    optimal_threshold = t_vals[np.array(silhouette_scores).argmax()]\n",
    "    print(f\"Optimal threshold: {optimal_threshold}\")\n",
    "\n",
    "    # plot Silhouette scores\n",
    "    if show_plot:\n",
    "        ax = plt.subplot()\n",
    "        plt.scatter(t_vals, silhouette_scores, label='Silhouette')\n",
    "        plt.ylabel(\"Score\")\n",
    "        plt.xlabel(\"Distance Threshold\")\n",
    "        plt.legend(prop={'size': 12}) #, bbox_to_anchor=(1.05, 1), loc='upper left')\n",
    "        for item in ([ax.title, ax.xaxis.label, ax.yaxis.label] +\n",
    "                    ax.get_xticklabels() + ax.get_yticklabels()):\n",
    "            item.set_fontsize(15)\n",
    "        plt.show()\n",
    "\n",
    "    return optimal_threshold\n",
    "\n",
    "# get the entry -> cluster name mapping when clustering using agglomerative clustering with the specified threshold\n",
    "def get_cluster_name_mapping(orig_docs, dist_thres):\n",
    "    # remove duplicates\n",
    "    docs = orig_docs.unique()\n",
    "\n",
    "    # get topics\n",
    "    topic_model, topics = get_topic_model(docs, model_name, dist_thres)\n",
    "    topic_df = pd.DataFrame(data={'entry': docs, 'topic': topics}).sort_values('topic')\n",
    "\n",
    "    # normalize cluster names (map entry to the most frequent entry in each cluster)\n",
    "    full_topic_df = orig_docs.rename('entry').to_frame().merge(topic_df)          # topic df with duplicates\n",
    "    standard_label_names = (full_topic_df.groupby('topic')['entry']\n",
    "        .apply(lambda x: x.value_counts().index[0])\n",
    "        .rename(\"standard_entry\")\n",
    "        .to_frame()\n",
    "    )\n",
    "    full_topic_df = full_topic_df.merge(standard_label_names, on='topic')\n",
    "\n",
    "    # get entry to cluster name mapping\n",
    "    cluster_name_mapping = full_topic_df[['entry', 'standard_entry']].set_index('entry')['standard_entry'].to_dict()\n",
    "\n",
    "    return cluster_name_mapping\n",
    "\n",
    "class NoUMAP(UMAP):\n",
    "    def fit(self, X):\n",
    "        return X\n",
    "    def transform(self, X):\n",
    "        return X\n",
    "\n",
    "# Compute a topic model using agglomeratice clustering with no UMAP\n",
    "def get_topic_model(docs, model_name, dist_thres):\n",
    "    topic_model = BERTopic(\n",
    "        embedding_model = model_name,\n",
    "        umap_model = NoUMAP(),\n",
    "        hdbscan_model = AgglomerativeClustering(n_clusters=None, linkage='complete', distance_threshold=dist_thres, metric='cosine'),\n",
    "        vectorizer_model = CountVectorizer(stop_words=\"english\", ngram_range=(1,1)),\n",
    "    )\n",
    "    topics, _ = topic_model.fit_transform(docs)\n",
    "    return topic_model, topics"
   ]
  },
  {
   "cell_type": "code",
   "execution_count": 127,
   "id": "75f06fcf",
   "metadata": {},
   "outputs": [],
   "source": [
    "# Embedding model\n",
    "models = [\n",
    "    \"average_word_embeddings_glove.6B.300d\",\n",
    "    \"all-mpnet-base-v2\",\n",
    "    \"multi-qa-mpnet-base-dot-v1\",\n",
    "    \"stsb-mpnet-base-v2\",\n",
    "    \"nli-mpnet-base-v2\",\n",
    "    \"stsb-roberta-base-v2\",\n",
    "]\n",
    "model_name = models[5]\n",
    "emb_model = SentenceTransformer(model_name)"
   ]
  },
  {
   "cell_type": "markdown",
   "id": "79f75c83",
   "metadata": {},
   "source": [
    "Determine the optimal thresholds"
   ]
  },
  {
   "cell_type": "code",
   "execution_count": 26,
   "id": "f15f3868",
   "metadata": {},
   "outputs": [
    {
     "name": "stdout",
     "output_type": "stream",
     "text": [
      "corr_base_label\n",
      "Scanning thresholds...\n"
     ]
    },
    {
     "name": "stderr",
     "output_type": "stream",
     "text": [
      "100%|██████████| 80/80 [00:08<00:00,  9.48it/s]"
     ]
    },
    {
     "name": "stdout",
     "output_type": "stream",
     "text": [
      "Optimal threshold: 0.54\n"
     ]
    },
    {
     "name": "stderr",
     "output_type": "stream",
     "text": [
      "\n"
     ]
    },
    {
     "data": {
      "image/png": "[encoded data removed]",
      "text/plain": [
       "<Figure size 640x480 with 1 Axes>"
      ]
     },
     "metadata": {},
     "output_type": "display_data"
    },
    {
     "name": "stdout",
     "output_type": "stream",
     "text": [
      "corr_modifier\n",
      "Scanning thresholds...\n"
     ]
    },
    {
     "name": "stderr",
     "output_type": "stream",
     "text": [
      "100%|██████████| 80/80 [01:16<00:00,  1.05it/s]"
     ]
    },
    {
     "name": "stdout",
     "output_type": "stream",
     "text": [
      "Optimal threshold: 0.52\n"
     ]
    },
    {
     "name": "stderr",
     "output_type": "stream",
     "text": [
      "\n"
     ]
    },
    {
     "data": {
      "image/png": "[encoded data removed]",
      "text/plain": [
       "<Figure size 640x480 with 1 Axes>"
      ]
     },
     "metadata": {},
     "output_type": "display_data"
    }
   ],
   "source": [
    "optimal_dist_thresholds = dict()\n",
    "for label_type in ['corr_base_label', 'corr_modifier']:\n",
    "    print(label_type)\n",
    "    optimal_dist_thresholds[label_type] = get_optimal_clustering_threshold(df[label_type], emb_model, show_plot=True)"
   ]
  },
  {
   "cell_type": "markdown",
   "id": "262b2cd7",
   "metadata": {},
   "source": [
    "Compute clusters"
   ]
  },
  {
   "cell_type": "code",
   "execution_count": 61,
   "id": "0bada5f7",
   "metadata": {},
   "outputs": [],
   "source": [
    "base_label_mapping = get_cluster_name_mapping(df['corr_base_label'], optimal_dist_thresholds['corr_base_label'])\n",
    "modifier_mapping = get_cluster_name_mapping(df['corr_modifier'], optimal_dist_thresholds['corr_modifier'])"
   ]
  },
  {
   "cell_type": "code",
   "execution_count": 62,
   "id": "c5c671f4",
   "metadata": {},
   "outputs": [],
   "source": [
    "# Apply a few cluster corrections to large clusters\n",
    "base_label_corrections = {\n",
    "    'victor': 'victor', \n",
    "    'victors': 'victor',\n",
    "    'oppressor': 'oppressor', \n",
    "    'oppressors': 'oppressor',\n",
    "    'analyst': 'analyst', \n",
    "    'analysts': 'analyst', \n",
    "    'analyzer': 'analyst',\n",
    "    'analytical source': 'analyst',\n",
    "    'analyst firm': 'analyst',\n",
    "    'analyst group': 'analyst',\n",
    "    'enemy': 'adversary',\n",
    "    'attacker': 'adversary',\n",
    "    'protagonist': 'protagonist',\n",
    "    'protagonists': 'protagonist',\n",
    "    'propagandist': 'propagandist',\n",
    "    'propagator': 'propagandist',\n",
    "    'prophet': 'prophet',\n",
    "    'prophets': 'prophet',\n",
    "}\n",
    "\n",
    "base_label_mapping.update(base_label_corrections)"
   ]
  },
  {
   "cell_type": "code",
   "execution_count": 63,
   "id": "ac602c30",
   "metadata": {},
   "outputs": [],
   "source": [
    "df['clustered_base_label'] = df['corr_base_label'].apply(lambda x: base_label_mapping[x])\n",
    "df['clustered_modifier'] = df['corr_modifier'].apply(lambda x: modifier_mapping[x])\n",
    "df['clustered_full_label'] = df['clustered_modifier'] + \" \" + df['clustered_base_label']"
   ]
  },
  {
   "cell_type": "code",
   "execution_count": 75,
   "id": "940db8a4",
   "metadata": {},
   "outputs": [],
   "source": [
    "# # Visualizing clusters\n",
    "# col = 'modifier'\n",
    "\n",
    "# top_clusters = df.groupby(f\"clustered_{col}\")[col].count().sort_values(ascending=False).index\n",
    "# for i, cluster in enumerate(top_clusters):\n",
    "#     print(cluster)\n",
    "#     print(\"-\", \", \".join((df.loc[df[f\"clustered_{col}\"] == cluster, col].value_counts().head(10).index.tolist())))\n",
    "#     print()"
   ]
  },
  {
   "cell_type": "code",
   "execution_count": null,
   "id": "9099c317",
   "metadata": {},
   "outputs": [],
   "source": [
    "# save\n",
    "df.to_csv(os.path.join(filepath, \"clustered_labels.csv\"), index=False)"
   ]
  },
  {
   "cell_type": "markdown",
   "id": "f74dcda9",
   "metadata": {},
   "source": [
    "### Labelling Stats"
   ]
  },
  {
   "cell_type": "code",
   "execution_count": null,
   "id": "e87c2432",
   "metadata": {},
   "outputs": [
    {
     "data": {
      "text/html": [
       "<div>\n",
       "<style scoped>\n",
       "    .dataframe tbody tr th:only-of-type {\n",
       "        vertical-align: middle;\n",
       "    }\n",
       "\n",
       "    .dataframe tbody tr th {\n",
       "        vertical-align: top;\n",
       "    }\n",
       "\n",
       "    .dataframe thead th {\n",
       "        text-align: right;\n",
       "    }\n",
       "</style>\n",
       "<table border=\"1\" class=\"dataframe\">\n",
       "  <thead>\n",
       "    <tr style=\"text-align: right;\">\n",
       "      <th></th>\n",
       "      <th>Orig. PRIM</th>\n",
       "      <th>PRIM</th>\n",
       "      <th>PRIM Compress.</th>\n",
       "      <th>Orig. MOD</th>\n",
       "      <th>MOD</th>\n",
       "      <th>MOD Compress.</th>\n",
       "      <th>Orig. Full</th>\n",
       "      <th>Full</th>\n",
       "      <th>Full Compress.</th>\n",
       "    </tr>\n",
       "  </thead>\n",
       "  <tbody>\n",
       "    <tr>\n",
       "      <th>Clim.</th>\n",
       "      <td>1440</td>\n",
       "      <td>734</td>\n",
       "      <td>49.03</td>\n",
       "      <td>3124</td>\n",
       "      <td>1576</td>\n",
       "      <td>49.55</td>\n",
       "      <td>9120</td>\n",
       "      <td>7739</td>\n",
       "      <td>15.14</td>\n",
       "    </tr>\n",
       "    <tr>\n",
       "      <th>Imm.</th>\n",
       "      <td>1779</td>\n",
       "      <td>847</td>\n",
       "      <td>52.39</td>\n",
       "      <td>3754</td>\n",
       "      <td>1870</td>\n",
       "      <td>50.19</td>\n",
       "      <td>10525</td>\n",
       "      <td>9062</td>\n",
       "      <td>13.90</td>\n",
       "    </tr>\n",
       "    <tr>\n",
       "      <th>SSM</th>\n",
       "      <td>1265</td>\n",
       "      <td>675</td>\n",
       "      <td>46.64</td>\n",
       "      <td>2590</td>\n",
       "      <td>1400</td>\n",
       "      <td>45.95</td>\n",
       "      <td>8126</td>\n",
       "      <td>6792</td>\n",
       "      <td>16.42</td>\n",
       "    </tr>\n",
       "    <tr>\n",
       "      <th>Tech.</th>\n",
       "      <td>1089</td>\n",
       "      <td>654</td>\n",
       "      <td>39.94</td>\n",
       "      <td>3223</td>\n",
       "      <td>1730</td>\n",
       "      <td>46.32</td>\n",
       "      <td>6382</td>\n",
       "      <td>5823</td>\n",
       "      <td>8.76</td>\n",
       "    </tr>\n",
       "    <tr>\n",
       "      <th>R-U</th>\n",
       "      <td>479</td>\n",
       "      <td>334</td>\n",
       "      <td>30.27</td>\n",
       "      <td>815</td>\n",
       "      <td>631</td>\n",
       "      <td>22.58</td>\n",
       "      <td>1866</td>\n",
       "      <td>1778</td>\n",
       "      <td>4.72</td>\n",
       "    </tr>\n",
       "  </tbody>\n",
       "</table>\n",
       "</div>"
      ],
      "text/plain": [
       "       Orig. PRIM  PRIM  PRIM Compress.  Orig. MOD   MOD  MOD Compress.  \\\n",
       "Clim.        1440   734           49.03       3124  1576          49.55   \n",
       "Imm.         1779   847           52.39       3754  1870          50.19   \n",
       "SSM          1265   675           46.64       2590  1400          45.95   \n",
       "Tech.        1089   654           39.94       3223  1730          46.32   \n",
       "R-U           479   334           30.27        815   631          22.58   \n",
       "\n",
       "       Orig. Full  Full  Full Compress.  \n",
       "Clim.        9120  7739           15.14  \n",
       "Imm.        10525  9062           13.90  \n",
       "SSM          8126  6792           16.42  \n",
       "Tech.        6382  5823            8.76  \n",
       "R-U          1866  1778            4.72  "
      ]
     },
     "execution_count": 124,
     "metadata": {},
     "output_type": "execute_result"
    }
   ],
   "source": [
    "label_types = ['base_label', 'modifier', 'full_label']\n",
    "dfs = []\n",
    "for col in label_types:\n",
    "    df_tmp = df.groupby('cate')[[col, f'clustered_{col}']].nunique()\n",
    "    dfs.append(df_tmp)\n",
    "\n",
    "df_label_stats = pd.concat(dfs, axis=1).rename(columns={\n",
    "    'base_label': \"Orig. PRIM\",\n",
    "    'modifier': 'Orig. MOD',\n",
    "    'full_label': \"Orig. Full\",\n",
    "    \"clustered_base_label\": \"PRIM\",\n",
    "    \"clustered_modifier\": \"MOD\",\n",
    "    \"clustered_full_label\": \"Full\"\n",
    "})\n",
    "\n",
    "df_label_stats = (df_label_stats\n",
    "    .rename_axis(None, axis=0)\n",
    "    .rename(index={'climate': 'Clim.', 'immigration': 'Imm.', 'samesex': 'SSM', 'tech_and_jobs': 'Tech.', 'ukraine': 'R-U'})\n",
    ")\n",
    "\n",
    "df_label_stats['PRIM Compress.'] = (1 - df_label_stats['PRIM']/df_label_stats['Orig. PRIM'])*100\n",
    "df_label_stats['MOD Compress.'] = (1 - df_label_stats['MOD']/df_label_stats['Orig. MOD'])*100\n",
    "df_label_stats['Full Compress.'] = (1 - df_label_stats['Full']/df_label_stats['Orig. Full'])*100\n",
    "\n",
    "df_label_stats[['Orig. PRIM', 'PRIM', 'PRIM Compress.', 'Orig. MOD', 'MOD', 'MOD Compress.', 'Orig. Full', 'Full', 'Full Compress.']].round(2)"
   ]
  },
  {
   "cell_type": "code",
   "execution_count": 122,
   "id": "2e6b2adf",
   "metadata": {},
   "outputs": [
    {
     "data": {
      "text/html": [
       "<div>\n",
       "<style scoped>\n",
       "    .dataframe tbody tr th:only-of-type {\n",
       "        vertical-align: middle;\n",
       "    }\n",
       "\n",
       "    .dataframe tbody tr th {\n",
       "        vertical-align: top;\n",
       "    }\n",
       "\n",
       "    .dataframe thead th {\n",
       "        text-align: right;\n",
       "    }\n",
       "</style>\n",
       "<table border=\"1\" class=\"dataframe\">\n",
       "  <thead>\n",
       "    <tr style=\"text-align: right;\">\n",
       "      <th></th>\n",
       "      <th>unique</th>\n",
       "    </tr>\n",
       "  </thead>\n",
       "  <tbody>\n",
       "    <tr>\n",
       "      <th>base_label</th>\n",
       "      <td>3559</td>\n",
       "    </tr>\n",
       "    <tr>\n",
       "      <th>clustered_base_label</th>\n",
       "      <td>1190</td>\n",
       "    </tr>\n",
       "    <tr>\n",
       "      <th>modifier</th>\n",
       "      <td>9994</td>\n",
       "    </tr>\n",
       "    <tr>\n",
       "      <th>clustered_modifier</th>\n",
       "      <td>3235</td>\n",
       "    </tr>\n",
       "    <tr>\n",
       "      <th>full_label</th>\n",
       "      <td>31192</td>\n",
       "    </tr>\n",
       "    <tr>\n",
       "      <th>clustered_full_label</th>\n",
       "      <td>25458</td>\n",
       "    </tr>\n",
       "  </tbody>\n",
       "</table>\n",
       "</div>"
      ],
      "text/plain": [
       "                     unique\n",
       "base_label             3559\n",
       "clustered_base_label   1190\n",
       "modifier               9994\n",
       "clustered_modifier     3235\n",
       "full_label            31192\n",
       "clustered_full_label  25458"
      ]
     },
     "execution_count": 122,
     "metadata": {},
     "output_type": "execute_result"
    }
   ],
   "source": [
    "df[['base_label', 'clustered_base_label', 'modifier', 'clustered_modifier', 'full_label', 'clustered_full_label']].describe().loc['unique'].to_frame()"
   ]
  },
  {
   "cell_type": "code",
   "execution_count": null,
   "id": "a31e1b2f",
   "metadata": {},
   "outputs": [],
   "source": [
    "# print(f\"Base Label: {df['clustered_base_label'].unique().shape[0]}/{df['base_label'].unique().shape[0]} = {df['clustered_base_label'].unique().shape[0]/df['base_label'].unique().shape[0]}\")\n",
    "\n",
    "# print(f\"Modifier: {df['clustered_modifier'].unique().shape[0]}/{df['modifier'].unique().shape[0]} = {df['clustered_modifier'].unique().shape[0]/df['modifier'].unique().shape[0]}\")\n",
    "\n",
    "# print(f\"Full Label: {df['clustered_full_label'].unique().shape[0]}/{df['full_label'].unique().shape[0]} = {df['clustered_full_label'].unique().shape[0]/df['full_label'].unique().shape[0]}\")"
   ]
  },
  {
   "cell_type": "code",
   "execution_count": 126,
   "id": "dc4d60d2",
   "metadata": {},
   "outputs": [],
   "source": [
    "# print(df_label_stats[['Orig. PRIM', 'PRIM', 'PRIM Compress.', 'Orig. MOD', 'MOD', 'MOD Compress.', 'Orig. Full', 'Full', 'Full Compress.']]\n",
    "#       .T\n",
    "#       .round(2)\n",
    "#       [['R-U', 'Tech.', 'Imm.', 'Clim.', 'SSM']]\n",
    "#       .to_latex(float_format=\"%.1f\")\n",
    "# )"
   ]
  }
 ],
 "metadata": {
  "kernelspec": {
   "display_name": "thesis",
   "language": "python",
   "name": "python3"
  },
  "language_info": {
   "codemirror_mode": {
    "name": "ipython",
    "version": 3
   },
   "file_extension": ".py",
   "mimetype": "text/x-python",
   "name": "python",
   "nbconvert_exporter": "python",
   "pygments_lexer": "ipython3",
   "version": "3.10.13"
  }
 },
 "nbformat": 4,
 "nbformat_minor": 5
}
